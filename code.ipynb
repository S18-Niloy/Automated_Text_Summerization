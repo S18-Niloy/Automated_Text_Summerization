{
 "cells": [
  {
   "cell_type": "code",
   "execution_count": 55,
   "metadata": {},
   "outputs": [],
   "source": [
    "from transformers import AutoTokenizer, AutoModelForSeq2SeqLM, Seq2SeqTrainer, Seq2SeqTrainingArguments\n",
    "from datasets import load_dataset, Dataset\n",
    "from sklearn.model_selection import train_test_split\n",
    "import pandas as pd"
   ]
  },
  {
   "cell_type": "code",
   "execution_count": 48,
   "metadata": {},
   "outputs": [],
   "source": [
    "# Load the dataset (replace 'your_dataset_name' with the actual name)\n",
    "dataset = pd.read_csv(r'\news.csv')"
   ]
  },
  {
   "cell_type": "code",
   "execution_count": 49,
   "metadata": {},
   "outputs": [],
   "source": [
    "# Perform train-test split (80% train, 20% test)\n",
    "train_df, test_df = train_test_split(dataset, test_size=0.2, random_state=42)"
   ]
  },
  {
   "cell_type": "code",
   "execution_count": 53,
   "metadata": {},
   "outputs": [
    {
     "data": {
      "text/html": [
       "<div>\n",
       "<style scoped>\n",
       "    .dataframe tbody tr th:only-of-type {\n",
       "        vertical-align: middle;\n",
       "    }\n",
       "\n",
       "    .dataframe tbody tr th {\n",
       "        vertical-align: top;\n",
       "    }\n",
       "\n",
       "    .dataframe thead th {\n",
       "        text-align: right;\n",
       "    }\n",
       "</style>\n",
       "<table border=\"1\" class=\"dataframe\">\n",
       "  <thead>\n",
       "    <tr style=\"text-align: right;\">\n",
       "      <th></th>\n",
       "      <th>id</th>\n",
       "      <th>article</th>\n",
       "      <th>highlights</th>\n",
       "    </tr>\n",
       "  </thead>\n",
       "  <tbody>\n",
       "    <tr>\n",
       "      <th>29</th>\n",
       "      <td>001c839e1d76c400129f6c2799957c74e9895815</td>\n",
       "      <td>A Hero teacher who saved the life of a serious...</td>\n",
       "      <td>Teacher Ray Coe gave pupil Alya Ahmed Ali,13, ...</td>\n",
       "    </tr>\n",
       "    <tr>\n",
       "      <th>535</th>\n",
       "      <td>018e3016e48a4aaf442a2db16d4b1143d3b662ea</td>\n",
       "      <td>Police investigating the disappearance of Made...</td>\n",
       "      <td>Police want to speak to ex-pat Robert Murat, P...</td>\n",
       "    </tr>\n",
       "    <tr>\n",
       "      <th>695</th>\n",
       "      <td>02060be908e4894aa26922fbc14a2aea1a4163f1</td>\n",
       "      <td>The full scale of spending on private contract...</td>\n",
       "      <td>£3.2m spent on Tasers with millions more on ot...</td>\n",
       "    </tr>\n",
       "    <tr>\n",
       "      <th>557</th>\n",
       "      <td>01a033acb35063f347289196cb89e8afaef802c2</td>\n",
       "      <td>(EW.com) -- You don't need to look very hard t...</td>\n",
       "      <td>The Tony Awards hold the dearest spot in Neil ...</td>\n",
       "    </tr>\n",
       "    <tr>\n",
       "      <th>836</th>\n",
       "      <td>0264c489ba126938bc91c07211df95804e41ff67</td>\n",
       "      <td>By . Nazia Parveen . PUBLISHED: . 18:09 EST, 1...</td>\n",
       "      <td>The three girls were 'shaken like dolls' by tw...</td>\n",
       "    </tr>\n",
       "    <tr>\n",
       "      <th>...</th>\n",
       "      <td>...</td>\n",
       "      <td>...</td>\n",
       "      <td>...</td>\n",
       "    </tr>\n",
       "    <tr>\n",
       "      <th>106</th>\n",
       "      <td>0057863e126ceb0f22053aa1570a14977e5803ff</td>\n",
       "      <td>By . Matt Barlow . Follow @@Matt_Barlow_DM . N...</td>\n",
       "      <td>Neymar out of the tournament after injury late...</td>\n",
       "    </tr>\n",
       "    <tr>\n",
       "      <th>270</th>\n",
       "      <td>00d48bf5089a093edf12ef5f3836780e97be6be0</td>\n",
       "      <td>(CNN) -- These days, no fashion house portfoli...</td>\n",
       "      <td>Tommy Hilfiger and Karl Lagerfeld are the late...</td>\n",
       "    </tr>\n",
       "    <tr>\n",
       "      <th>860</th>\n",
       "      <td>0276ac7a8bc00bdc47e1e99774ee7d5017f0f0a8</td>\n",
       "      <td>Arsenal midfielder Mikel Arteta was visibly di...</td>\n",
       "      <td>Borussia Dortmund score either side of half ti...</td>\n",
       "    </tr>\n",
       "    <tr>\n",
       "      <th>435</th>\n",
       "      <td>01462daeb1d2b20447926ffd47368bdf0116db4a</td>\n",
       "      <td>A onetime California school official was sente...</td>\n",
       "      <td>Andrea Cardosa, a former assistant principal, ...</td>\n",
       "    </tr>\n",
       "    <tr>\n",
       "      <th>102</th>\n",
       "      <td>005538eba9ddc63dc5d11ee3ef19643f5a2b6af3</td>\n",
       "      <td>By . Helen Lawson . PUBLISHED: . 13:37 EST, 15...</td>\n",
       "      <td>Katie Tantum claims she was criticised for lea...</td>\n",
       "    </tr>\n",
       "  </tbody>\n",
       "</table>\n",
       "<p>800 rows × 3 columns</p>\n",
       "</div>"
      ],
      "text/plain": [
       "                                           id  \\\n",
       "29   001c839e1d76c400129f6c2799957c74e9895815   \n",
       "535  018e3016e48a4aaf442a2db16d4b1143d3b662ea   \n",
       "695  02060be908e4894aa26922fbc14a2aea1a4163f1   \n",
       "557  01a033acb35063f347289196cb89e8afaef802c2   \n",
       "836  0264c489ba126938bc91c07211df95804e41ff67   \n",
       "..                                        ...   \n",
       "106  0057863e126ceb0f22053aa1570a14977e5803ff   \n",
       "270  00d48bf5089a093edf12ef5f3836780e97be6be0   \n",
       "860  0276ac7a8bc00bdc47e1e99774ee7d5017f0f0a8   \n",
       "435  01462daeb1d2b20447926ffd47368bdf0116db4a   \n",
       "102  005538eba9ddc63dc5d11ee3ef19643f5a2b6af3   \n",
       "\n",
       "                                               article  \\\n",
       "29   A Hero teacher who saved the life of a serious...   \n",
       "535  Police investigating the disappearance of Made...   \n",
       "695  The full scale of spending on private contract...   \n",
       "557  (EW.com) -- You don't need to look very hard t...   \n",
       "836  By . Nazia Parveen . PUBLISHED: . 18:09 EST, 1...   \n",
       "..                                                 ...   \n",
       "106  By . Matt Barlow . Follow @@Matt_Barlow_DM . N...   \n",
       "270  (CNN) -- These days, no fashion house portfoli...   \n",
       "860  Arsenal midfielder Mikel Arteta was visibly di...   \n",
       "435  A onetime California school official was sente...   \n",
       "102  By . Helen Lawson . PUBLISHED: . 13:37 EST, 15...   \n",
       "\n",
       "                                            highlights  \n",
       "29   Teacher Ray Coe gave pupil Alya Ahmed Ali,13, ...  \n",
       "535  Police want to speak to ex-pat Robert Murat, P...  \n",
       "695  £3.2m spent on Tasers with millions more on ot...  \n",
       "557  The Tony Awards hold the dearest spot in Neil ...  \n",
       "836  The three girls were 'shaken like dolls' by tw...  \n",
       "..                                                 ...  \n",
       "106  Neymar out of the tournament after injury late...  \n",
       "270  Tommy Hilfiger and Karl Lagerfeld are the late...  \n",
       "860  Borussia Dortmund score either side of half ti...  \n",
       "435  Andrea Cardosa, a former assistant principal, ...  \n",
       "102  Katie Tantum claims she was criticised for lea...  \n",
       "\n",
       "[800 rows x 3 columns]"
      ]
     },
     "execution_count": 53,
     "metadata": {},
     "output_type": "execute_result"
    }
   ],
   "source": [
    "train_df"
   ]
  },
  {
   "cell_type": "code",
   "execution_count": 56,
   "metadata": {},
   "outputs": [],
   "source": [
    "train_dataset = Dataset.from_pandas(train_df)\n",
    "test_dataset = Dataset.from_pandas(test_df)"
   ]
  },
  {
   "cell_type": "code",
   "execution_count": 57,
   "metadata": {},
   "outputs": [
    {
     "name": "stderr",
     "output_type": "stream",
     "text": [
      "c:\\Users\\20301125\\.conda\\envs\\pytorch\\lib\\site-packages\\transformers\\tokenization_utils_base.py:1601: FutureWarning: `clean_up_tokenization_spaces` was not set. It will be set to `True` by default. This behavior will be depracted in transformers v4.45, and will be then set to `False` by default. For more details check this issue: https://github.com/huggingface/transformers/issues/31884\n",
      "  warnings.warn(\n"
     ]
    }
   ],
   "source": [
    "# Load the pre-trained tokenizer and model for summarization (e.g., T5 or BART)\n",
    "model_name = \"facebook/bart-base\"  # Or \"t5-small\" for smaller model\n",
    "tokenizer = AutoTokenizer.from_pretrained(model_name)\n",
    "model = AutoModelForSeq2SeqLM.from_pretrained(model_name)"
   ]
  },
  {
   "cell_type": "code",
   "execution_count": 58,
   "metadata": {},
   "outputs": [],
   "source": [
    "# Preprocessing function for tokenizing inputs and outputs\n",
    "def preprocess_function(examples):\n",
    "    # Tokenize input (article) and output (highlights)\n",
    "    inputs = tokenizer(examples['article'], max_length=1024, padding='max_length', truncation=True)\n",
    "    with tokenizer.as_target_tokenizer():\n",
    "        labels = tokenizer(examples['highlights'], max_length=128, padding='max_length', truncation=True)\n",
    "    \n",
    "    inputs['labels'] = labels['input_ids']\n",
    "    return inputs"
   ]
  },
  {
   "cell_type": "code",
   "execution_count": 59,
   "metadata": {},
   "outputs": [
    {
     "data": {
      "application/vnd.jupyter.widget-view+json": {
       "model_id": "2235d03b401e4db8a1acf7d6926bb9b9",
       "version_major": 2,
       "version_minor": 0
      },
      "text/plain": [
       "Map:   0%|          | 0/800 [00:00<?, ? examples/s]"
      ]
     },
     "metadata": {},
     "output_type": "display_data"
    },
    {
     "name": "stderr",
     "output_type": "stream",
     "text": [
      "c:\\Users\\20301125\\.conda\\envs\\pytorch\\lib\\site-packages\\transformers\\tokenization_utils_base.py:4126: UserWarning: `as_target_tokenizer` is deprecated and will be removed in v5 of Transformers. You can tokenize your labels by using the argument `text_target` of the regular `__call__` method (either in the same call as your input texts if you use the same keyword arguments, or in a separate call.\n",
      "  warnings.warn(\n"
     ]
    },
    {
     "data": {
      "application/vnd.jupyter.widget-view+json": {
       "model_id": "cd026b3061914cd2b8a89a0e5c3f6498",
       "version_major": 2,
       "version_minor": 0
      },
      "text/plain": [
       "Map:   0%|          | 0/200 [00:00<?, ? examples/s]"
      ]
     },
     "metadata": {},
     "output_type": "display_data"
    }
   ],
   "source": [
    "# Apply the preprocessing to both training and testing datasets\n",
    "tokenized_train_dataset = train_dataset.map(preprocess_function, batched=True)\n",
    "tokenized_test_dataset = test_dataset.map(preprocess_function, batched=True)"
   ]
  },
  {
   "cell_type": "code",
   "execution_count": 60,
   "metadata": {},
   "outputs": [
    {
     "name": "stderr",
     "output_type": "stream",
     "text": [
      "c:\\Users\\20301125\\.conda\\envs\\pytorch\\lib\\site-packages\\transformers\\training_args.py:1525: FutureWarning: `evaluation_strategy` is deprecated and will be removed in version 4.46 of 🤗 Transformers. Use `eval_strategy` instead\n",
      "  warnings.warn(\n"
     ]
    }
   ],
   "source": [
    "# Define training arguments\n",
    "training_args = Seq2SeqTrainingArguments(\n",
    "    output_dir='./results',\n",
    "    evaluation_strategy=\"epoch\",\n",
    "    learning_rate=2e-5,\n",
    "    per_device_train_batch_size=16,\n",
    "    per_device_eval_batch_size=16,\n",
    "    num_train_epochs=3,\n",
    "    weight_decay=0.01,\n",
    "    predict_with_generate=True  # To enable text generation during evaluation\n",
    ")\n",
    "\n",
    "# Initialize Seq2SeqTrainer for summarization tasks\n",
    "trainer = Seq2SeqTrainer(\n",
    "    model=model,\n",
    "    args=training_args,\n",
    "    train_dataset=tokenized_train_dataset,\n",
    "    eval_dataset=tokenized_test_dataset,\n",
    "    tokenizer=tokenizer\n",
    ")"
   ]
  },
  {
   "cell_type": "code",
   "execution_count": 61,
   "metadata": {},
   "outputs": [
    {
     "data": {
      "application/vnd.jupyter.widget-view+json": {
       "model_id": "0a3b6e6305a145b3ae6b3e6050ba24b9",
       "version_major": 2,
       "version_minor": 0
      },
      "text/plain": [
       "  0%|          | 0/150 [00:00<?, ?it/s]"
      ]
     },
     "metadata": {},
     "output_type": "display_data"
    },
    {
     "data": {
      "application/vnd.jupyter.widget-view+json": {
       "model_id": "0c4533bb74b74a0190904904da3f7af2",
       "version_major": 2,
       "version_minor": 0
      },
      "text/plain": [
       "  0%|          | 0/13 [00:00<?, ?it/s]"
      ]
     },
     "metadata": {},
     "output_type": "display_data"
    },
    {
     "name": "stdout",
     "output_type": "stream",
     "text": [
      "{'eval_loss': 3.348780393600464, 'eval_runtime': 1.1453, 'eval_samples_per_second': 174.63, 'eval_steps_per_second': 11.351, 'epoch': 1.0}\n"
     ]
    },
    {
     "data": {
      "application/vnd.jupyter.widget-view+json": {
       "model_id": "cf1a0c05c82e474ca08969e03c028d92",
       "version_major": 2,
       "version_minor": 0
      },
      "text/plain": [
       "  0%|          | 0/13 [00:00<?, ?it/s]"
      ]
     },
     "metadata": {},
     "output_type": "display_data"
    },
    {
     "name": "stdout",
     "output_type": "stream",
     "text": [
      "{'eval_loss': 2.543712854385376, 'eval_runtime': 1.1481, 'eval_samples_per_second': 174.2, 'eval_steps_per_second': 11.323, 'epoch': 2.0}\n"
     ]
    },
    {
     "name": "stderr",
     "output_type": "stream",
     "text": [
      "Some non-default generation parameters are set in the model config. These should go into a GenerationConfig file (https://huggingface.co/docs/transformers/generation_strategies#save-a-custom-decoding-strategy-with-your-model) instead. This warning will be raised to an exception in v4.41.\n",
      "Non-default generation parameters: {'early_stopping': True, 'num_beams': 4, 'no_repeat_ngram_size': 3, 'forced_bos_token_id': 0, 'forced_eos_token_id': 2}\n"
     ]
    },
    {
     "data": {
      "application/vnd.jupyter.widget-view+json": {
       "model_id": "0c63740c473f497d9a3ac348d9096c07",
       "version_major": 2,
       "version_minor": 0
      },
      "text/plain": [
       "  0%|          | 0/13 [00:00<?, ?it/s]"
      ]
     },
     "metadata": {},
     "output_type": "display_data"
    },
    {
     "name": "stdout",
     "output_type": "stream",
     "text": [
      "{'eval_loss': 2.33656644821167, 'eval_runtime': 1.3084, 'eval_samples_per_second': 152.854, 'eval_steps_per_second': 9.936, 'epoch': 3.0}\n",
      "{'train_runtime': 49.2765, 'train_samples_per_second': 48.705, 'train_steps_per_second': 3.044, 'train_loss': 4.096498209635417, 'epoch': 3.0}\n"
     ]
    },
    {
     "data": {
      "text/plain": [
       "TrainOutput(global_step=150, training_loss=4.096498209635417, metrics={'train_runtime': 49.2765, 'train_samples_per_second': 48.705, 'train_steps_per_second': 3.044, 'total_flos': 1463367499776000.0, 'train_loss': 4.096498209635417, 'epoch': 3.0})"
      ]
     },
     "execution_count": 61,
     "metadata": {},
     "output_type": "execute_result"
    }
   ],
   "source": [
    "# Start training\n",
    "trainer.train()"
   ]
  },
  {
   "cell_type": "code",
   "execution_count": 62,
   "metadata": {},
   "outputs": [
    {
     "data": {
      "application/vnd.jupyter.widget-view+json": {
       "model_id": "174e741349d64d7a9cf51423c4c63220",
       "version_major": 2,
       "version_minor": 0
      },
      "text/plain": [
       "  0%|          | 0/13 [00:00<?, ?it/s]"
      ]
     },
     "metadata": {},
     "output_type": "display_data"
    },
    {
     "data": {
      "text/plain": [
       "{'eval_loss': 2.33656644821167,\n",
       " 'eval_runtime': 1.3859,\n",
       " 'eval_samples_per_second': 144.306,\n",
       " 'eval_steps_per_second': 9.38,\n",
       " 'epoch': 3.0}"
      ]
     },
     "execution_count": 62,
     "metadata": {},
     "output_type": "execute_result"
    }
   ],
   "source": [
    "# Start evaluation\n",
    "trainer.evaluate()"
   ]
  },
  {
   "cell_type": "code",
   "execution_count": 63,
   "metadata": {},
   "outputs": [
    {
     "name": "stderr",
     "output_type": "stream",
     "text": [
      "Some non-default generation parameters are set in the model config. These should go into a GenerationConfig file (https://huggingface.co/docs/transformers/generation_strategies#save-a-custom-decoding-strategy-with-your-model) instead. This warning will be raised to an exception in v4.41.\n",
      "Non-default generation parameters: {'early_stopping': True, 'num_beams': 4, 'no_repeat_ngram_size': 3, 'forced_bos_token_id': 0, 'forced_eos_token_id': 2}\n"
     ]
    }
   ],
   "source": [
    "# Save the trained model\n",
    "trainer.save_model(\"./trained_model\")\n"
   ]
  },
  {
   "cell_type": "code",
   "execution_count": 64,
   "metadata": {},
   "outputs": [],
   "source": [
    "from transformers import AutoTokenizer, AutoModelForSeq2SeqLM\n",
    "from datasets import load_metric\n",
    "import torch\n",
    "\n",
    "# Load the fine-tuned model and tokenizer (adjust paths as necessary)\n",
    "model = AutoModelForSeq2SeqLM.from_pretrained('./trained_model')\n",
    "tokenizer = AutoTokenizer.from_pretrained('./trained_model')"
   ]
  },
  {
   "cell_type": "code",
   "execution_count": 67,
   "metadata": {},
   "outputs": [
    {
     "data": {
      "application/vnd.jupyter.widget-view+json": {
       "model_id": "5574f110337a4320b71387a08fe4de60",
       "version_major": 2,
       "version_minor": 0
      },
      "text/plain": [
       "Map:   0%|          | 0/200 [00:00<?, ? examples/s]"
      ]
     },
     "metadata": {},
     "output_type": "display_data"
    }
   ],
   "source": [
    "# Function to generate summaries\n",
    "def generate_summary(batch):\n",
    "    # Tokenize the articles (batch input)\n",
    "    inputs = tokenizer(batch['article'], max_length=1024, padding='max_length', truncation=True, return_tensors=\"pt\")\n",
    "    \n",
    "    # Move inputs to GPU if available\n",
    "    inputs = {key: val.to(model.device) for key, val in inputs.items()}\n",
    "    \n",
    "    # Generate summaries for the entire batch\n",
    "    with torch.no_grad():\n",
    "        summary_ids = model.generate(inputs['input_ids'], max_length=128, num_beams=4, early_stopping=True)\n",
    "    \n",
    "    # Decode the generated summaries (batch decoding)\n",
    "    batch['generated_summary'] = [tokenizer.decode(g, skip_special_tokens=True) for g in summary_ids]\n",
    "    \n",
    "    return batch\n",
    "\n",
    "\n",
    "# Apply the generation function to the test dataset\n",
    "test_results = tokenized_test_dataset.map(generate_summary, batched=True, batch_size=16)"
   ]
  },
  {
   "cell_type": "code",
   "execution_count": 68,
   "metadata": {},
   "outputs": [
    {
     "name": "stdout",
     "output_type": "stream",
     "text": [
      "Article 1:\n",
      " Experts have used a radical new satellites to capture unique psychedelic images of the ruptures in the Earth's crust caused by the Napa earthquake. Radar images from the UK's Sentinel-1A satellite have been used to map the biggest earthquake that has shaken northern California in 25 years. The images reveal the rupture is larger than previously thought. By processing two Sentinel-1A images, which were acquired on 7 August and 31 August 2014 over this wine-producing region, an interferogram was generated. The two round shapes around Napa valley, which are visible in the central part of the image, show how the ground moved during the quake. The satellite uses a technique called 'Synthetic aperture radar interferometry'. This uses two or more satellite radar images of the same area are combined to detect large-scale surface changes. Small changes on the ground modify the reflected radar signal and lead to rainbow-coloured fringes in the 'interferogram'. Each colour cycle corresponds to a deformation of 28 mm deformation. The maximum deformation is more than 10 cm, and an area of about 30x30 km was affected significantly. Yngvar Larsen from Norway's Northern Research Institute and Petar Marinkovic from PPO.labs in the Netherlands processed this new interferogram from two images: one that Sentinel-1A acquired on 7 August, the day the satellite reached its operational orbit, and another captured on 31 August. It clearly confirms that part of the West Napa Fault system was responsible for the 6.0 earthquake that rocked California's wine-producing region. However, the fault had not been identified as being particularly hazardous prior to the quake that hit on 24 August. Importantly, the extent of the ground deformation in the interferogram shows that the fault slip continues further north than the extent of the rupture mapped at the surface. Sharp lines in the interferogram show minor movements on other faults, such as the part of the West Napa Fault system that crosses Napa airport. The maximum deformation is more than 10 cm, and an area of about 30x30 km was affected significantly. Austin Elliott, a PhD student at the University of California Davis, is one of the team mapping the earthquake rupture on the ground. Researchers have also been on the ground to examine the damage to the local area . He said, 'The data from satellites are invaluable for completely identifying the surface break of the earthquake – deformation maps from satellite imagery guide us to places where rupture has not yet been mapped.' Tim Wright, from University of Leeds said, 'This successful demonstration of Sentinel-1A marks the beginning of a new era for our ability to map earthquakes from space. 'COMET scientists are building a system that will provide these results routinely for all continental earthquakes, as well as mapping the slow warping of the ground surface that leads to earthquakes.' Sentinel-1A passes over the same spot on the ground every 12 days. However, once its identical twin, Sentinel-1B, is launched in 2016, this will be cut to just six days, so that changes can be mapped even faster .\n",
      "Generated Summary 1:\n",
      " Scientists have used a radical new technique called 'Synthetic aperture radar interferometry' to map the epicenter of the 6.0 earthquake.\n",
      "Two Sentinel-1A images were acquired on 7 August and 31 August 2014 over this wine-producing region.\n",
      "Actual Summary 1:\n",
      " Confirms West Napa Fault system was responsible for the 6.0 earthquake .\n",
      "Reveals area of about 30x30 km was affected significantly .\n",
      "Fault slip continues further north than previously thought .\n",
      "system set to be used to monitor all future earthquakes .\n",
      "---------------------------------------------------------\n",
      "Article 2:\n",
      " (CNN)As another snowstorm barrels toward the already-buried Northeast this weekend, some folks have had just about all they can take. Dr. Steve Schlozman, an assistant professor of psychiatry at Harvard Medical School, wrote this week that he has \"developed a new sympathy for my daughter's hamster,\" on WBUR's Common Health blog. \"She's seen the same cage, the same scene, the same everything, day in and day out,\" Schlozman wrote. \"But alas, my kid's hamster cannot work scissors, or a remote control for the television, or engage in any sort of higher order thinking.\" But too much time for thinking in the winter can lead to trouble. Millions of Americans experience a serious mood change during the winter months, when there is less natural sunlight. The condition is called seasonal affective disorder, or SAD. According to the National Institute of Mental Health, it's a type of depression, with symptoms such as: . • Sad, anxious or \"empty\" feelings . • Feelings of hopelessness and/or pessimism . • Feelings of guilt, worthlessness or helplessness . • Irritability, restlessness . • Loss of interest or pleasure in activities you used to enjoy . • Fatigue and decreased energy . • Difficulty concentrating, remembering details and making decisions . • Difficulty sleeping or oversleeping . • Changes in weight . • Thoughts of death or suicide . While the specific cause of SAD remains unknown, researchers have narrowed down a few factors that may come into play. \"Our inner clock, whose timing cycle does not necessarily match day and night outdoors, needs to stay in sync with rest-activity cycles dictated by family and work life,\" says Michael Terman, a professor of clinical psychology in psychiatry at Columbia University's College of Physicians and Surgeons. \"This is both very disorienting and a trigger for mood slumps and depression.\" \"Since the inner clock relies on sunlight to stay in sync, winter sunrise is later and winter nights are longer, melatonin can overshoot into the day, causing grogginess or 'brain fog,' for several hours,\" Terman says. Melatonin is a hormone that regulates sleep and wake cycles. Serotonin, one of many brain chemicals that affect mood, also varies seasonally, with lower levels in winter. According to the Mayo Clinic, SAD is diagnosed more often in women than in men, but men typically experience more severe symptoms. Younger people have a higher risk of SAD, and those affected are more likely to have blood relatives with SAD or another form of depression. So, how can you beat the winter blues? You've got a few options: . Light therapy is typically the treatment most people try first. You sit a few feet from a specially designed bright light, which mimics natural outdoor light. Solid scientific data is lacking, but light therapy appears to cause a change in brain chemicals linked to mood and seems to be effective for most people in relieving SAD symptoms. You don't need a prescription from your doctor. There are options on websites such as Amazon for under $100. The U.S. Food and Drug Administration doesn't regulate light-therapy products and, as you might expect, some of the manufacturers' claims are confusing and overreaching. The general consensus is to look for a light box that provides white light -- as opposed to blue or \"full spectrum\" -- with 10,000 lux of illumination and a broad diffuser screen that filters out UV rays. Most patients report phototherapy generally starts working in just a few days and results in few side effects; at worst: headaches, mild nausea, feelings of restlessness and trouble sleeping. If light therapy doesn't work, you might ask your doctor about a prescription for an antidepressant, especially if your symptoms are severe. Keep in mind that it might take a few weeks for the medication to fully kick in. Additionally, you may have to try a few different medications before you find one that works well for you and has the fewest side effects. If you want to go the natural route, psychotherapy is another option to treat SAD. Psychotherapy can help you identify and change negative thoughts and behaviors that may be making you feel worse, learn healthy ways to cope with SAD and learn how to better manage stress. Of course, the best solutions to any problem are sometimes the simplest. • Get outside. Bundle up and take a walk, even a short one. Even on a cold or cloudy day, outdoor light can help -- especially if you soak it in within the first few hours or waking up in the morning. • Make time to work out. Exercise helps decrease stress and anxiety, both of which can increase symptoms of SAD. As we all know, being more in shape can make you feel better about yourself, too, which can lift your mood. • Last but not least: socialize. When you're feeling down, it can be hard to be social, but that's when it's most important to connect with those around you. So grab your spouse, your kids, a neighbor and let us see what you're up to by posting on social media using the hashtag #CNNsnow.\n",
      "Generated Summary 2:\n",
      " The condition is called seasonal affective disorder, or SAD.\n",
      "Researchers have narrowed down a few factors that may come into play.\n",
      "Actual Summary 2:\n",
      " Yet more snow heading to Northeast United States this weekend .\n",
      "Many are tired of it, but some are SAD. Here are suggestions to help cheer up .\n",
      "---------------------------------------------------------\n",
      "Article 3:\n",
      " (CNN) -- The race is on to locate the latest Banksy on the streets of New York. The work shows a dog urinating on a fire hydrant -- with a thought bubble above the hydrant reading \"You complete me.\" This is the third piece by the mysterious street artist to appear this week. The first depicted two boys reaching up to a sign which said \"Graffiti Is a Crime.\" The second simply read \"This is my New York Accent... normally I write like this.\" Banksy authenticated the works by publishing them on his website and within hours they were located and defaced. Banksy may have started out as a graffiti artist in western England but his work now sells for millions in the coveted evening contemporary art auctions at Christie's and Sotheby's. His foray into the film business even earned him an Oscar nomination. Read more: Oscars won't let Banksy attend in disguise . He's a hugely successful artist and crucially he knows how to manage his brand. Banksy knows that his reputation was made on street corners, not in establishment hang-outs like the auction rooms of London and New York. New York 'residency' He regularly reminds us of his roots, as with his latest project in New York which his long serving PR, Jo Brooks, describes as: \"A month-long residency on streets of New York.\" Read more: Banksy mural torn from wall, up for auction . Banksy is painting images on walls, taking photographs and publishing them on Instagram and his own website. It's art but it's also a treasure hunt -- a race to locate the work before the vandals. Next to each piece is a toll-free number that the finder can call to receive an audio commentary of the work whilst standing in front of it. Banksy was an early adopter of social media. It was the perfect tool to allow him to communicate directly with fans whilst also protecting his anonymity. He's using Instagram because it doesn't matter where you are, you can see what's going on. The more traditional use of a toll-free number is intended to make it feel like you're in a museum. The lingering question is: Will anyone locate Banksy himself and publish that picture on Instagram? Well I've been trying for years. Apparently I've even met him without knowing it. But this month I hand the task over to New Yorkers ... Read more: Street vs public art .\n",
      "Generated Summary 3:\n",
      " Banksy's latest work shows a dog urinating on a fire hydrant.\n",
      "The work shows two boys reaching up to a sign which said \"Graffiti Is a Crime\".\n",
      "Actual Summary 3:\n",
      " Banksy started out as a graffiti artist in western England but his work now sells for millions .\n",
      "He is in New York for what his spokesperson says is a \"month-long residency.\"\n",
      "Banksy is painting images, taking photos and publishing them on Instagram and his website.\n",
      "Finders of the works can phone a toll-free number to get a commentary on them.\n",
      "---------------------------------------------------------\n",
      "Article 4:\n",
      " Next is hiring thousands of cheap Eastern European workers to staff its warehouse, it has been claimed (file picture) A major British retailer is hiring thousands of cheap Eastern European workers to staff its warehouse in an area where more than 200,000 are on the dole, it has been claimed. A former member of staff at Next has revealed how 'busloads' of Polish workers started arriving at the company's warehouse in South Elmsall in West Yorkshire earlier this month. It comes as it was revealed more than 218,000 are out of work in the Humber and Yorkshire area with unemployment higher than average. An agency based in Warsaw has claimed Next, run by Conservative peer Lord Wolfson, has already taken on 7,000 staff from Poland. Former worker Paul Crowcroft, 63, a retired cleaner, is reported as saying: 'They would suddenly turn up in busloads, seven coaches at a time. 'They were bringing them in every day by minibus from places like Wakefield and Doncaster. They were happy on the money because they got so little working back home in Poland. 'They were on the minimum wage.' The Eastern European work force was reported to be arriving to fill 'minimum wage' jobs weeks before the posts were advertised in the UK. Next has said it is currently using about 250 Polish staff but that it takes on about 500 a year and that it advertises in Poland first because it is more time consuming to take on workers from abroad. It advertised the jobs in Britain on November 19 and says 100 jobs are still up for grabs at South Elmsall. A spokesman told Mailonline today: 'We simply can't recruit enough people locally.' Polish jobs agency Flamejobs was said to be fielding a hundred calls a day looking for employment at Next. The firm's operations director Arseniusz Wolinski told the Mirror that 350 people were going to work at Next but that it had already sent 7,000. Polish workers started arriving at the company's warehouse in South Elmsall in West Yorkshire earlier this month, it has been claimed. The plant is pictured from above . He said wages on offer were up to four times the amount Polish workers would earn for the same role in their homeland. Buses started arriving at the warehouse earlier this month with Flame arranging trips from Warsaw at £100 a head, the Mirror reports. Its workers are offered places to stay for a weekly rent of up to £65 a week, the newspaper says. It comes just weeks after it was revealed that food manufacturer Greencore Group was reportedly looking to recruit staff from Hungary for a new £35 million factory due to open in Northampton - as few people living in the area have applied for jobs. A Next spokesman today told Mailonline that it needed to boost its recruitment on a temporary basis twice a year - for the Christmas period and for late spring sales. An agency based in Warsaw has claimed Next, run by Conservative peer Lord Wolfson (pictured), has already taken on 7,000 staff from Poland . He said: 'The local area cannot support that level of demand for these short spikes.' He added that Polish and British workers get paid the same, which was minimum wage and which is topped up with a bonus scheme and that recruitment started earlier in Poland as the process for hiring foreign workers took longer. When asked what measures were taken to secure British workers, he said all available jobs were posted on the firm's own website. 'The bottom line is there are still 100 jobs available which have to be filled. 'Next does recruit from Poland and has for years - it cannot fill its vacancies otherwise,' the spokesman said. He added that Flamejobs' estimation of 7,000 staff having been sent over may well have been over the period of a number of years. Nobody was available for comment when Mailonline contacted Flamejobs this morning. David Cameron has signalled he is ready to lead Britain out of the European Union if other EU states set their faces against tough new proposals to cut immigration. In a much-anticipated speech setting out plans to bar EU migrants from claiming welfare for the first four years after arriving in the UK and deport those who do not find jobs within six months, Mr Cameron warned that he will 'rule nothing out' if other European states turn a deaf ear to British concerns. The Prime Minister insisted that he still hopes to be able to recommend an In vote in the referendum on EU membership he has promised for 2017, and said he was 'confident' of success in the renegotiation of the terms of that membership he plans if Conservatives win next year's general election. David Cameron (pictured) has signalled he is ready to lead Britain out of the European Union if other EU states set their faces against tough new proposals to cut immigration . But he left no doubt that he has not ruled out recommending British exit if other EU nations refuse to compromise on the principle of free movement and accept reforms that he said were 'radical' but 'reasonable and fair'. Welfare changes to cut migration from within the EU 'significantly' will be an 'absolute requirement' in the renegotiation, he said. Under his plans, EU jobseekers without an offer of employment will not be allowed to claim the new Universal Credit when they arrive in the UK and will be required to leave if they do not find work within six months. Migrants will be able to claim tax credits and child benefit and to apply for social housing only after four years in the country, and will receive no child benefit or child tax credit for offspring living abroad . 'If you elect me as Prime Minister in May, I will negotiate to reform the European Union, and Britain's relationship with it,' said Mr Cameron. 'This issue of free movement will be a key part of that negotiation. 'If I succeed, I will, as I have said, campaign to keep this country in a reformed EU. 'If our concerns fall on deaf ears and we cannot put our relationship with the EU on a better footing, then of course I rule nothing out. 'But I am confident that, with goodwill and understanding, we can and will succeed.' David Cameron took a swipe at the Ukip, under Nigel Farage (pictured) warning voters to 'distrust those who sell the snake oil of simple solutions' Speaking in Staffordshire a day after official statistics showed net migration rising to 260,000 over the past year - 16,000 higher than when the coalition Government came to office - Mr Cameron conceded that his policies had 'not been enough' to meet the Conservative target of cutting overall numbers to the tens of thousands by 2015. But he insisted that his reforms had made 'a real difference', cutting numbers of migrants from outside the EU by as much as 50,000. He promised to 'go further' if he wins next year's election, by revoking the licences of colleges whose students overstay visas, extending 'deport first, appeal later' rules and requiring landlords to check tenants' immigration status. 'The ambition remains the right one. But it's clear: it's going to take more time, more work and more difficult long-term decisions to get there,' said Mr Cameron. In a clear swipe at the UK Independence Party, which has built support by highlighting public concerns over immigration, the Prime Minister warned voters to 'distrust those who sell the snake oil of simple solutions'. Denouncing as 'appalling' any suggestion of repatriating legal migrants, Mr Cameron said Britain was great 'because of immigration, not in spite of it', and insisted he was proud of the UK's openness to incomers and its creation of 'a successful multi-racial democracy'. The isolationism of those who want to 'pull up the drawbridge' and shut off immigration altogether is 'actually deeply unpatriotic', he said. 'For the sake of British jobs, British livelihoods and British opportunities we must fight this dangerous and misguided view that our nation can withdraw from the world and somehow all will be well,' said Mr Cameron. But he also warned against the 'dangerous' idea that immigration is not a problem and that it is racist to voice anxiety about it. 'We should be clear,' said the Prime Minister. 'It is not wrong to express concern about the scale of people coming into the country. 'People have understandably become frustrated. It boils down to one word: control. People want Government to have control over the numbers of people coming here and the circumstances in which they come, both from around the world and from within the European Union. 'They want control over who has the right to receive benefits and what is expected of them in return. They want to know that foreign criminals can be excluded - or if already here, removed. And they want us to manage carefully the pressures on our schools, our hospitals and our housing. 'If we are to maintain this successful open meritocratic democracy we treasure, we have to maintain faith in Government's ability to control the rate at which people come to this country. 'And yet in recent years, it has become clear that successive governments have lacked control. 'People want grip. I get that. And I completely agree.' Mr Cameron's speech in the JCB factory in Rocester was briefly interrupted by an alarm bell, which he joked must have been triggered by a direct link to the European Commission in Brussels. Read more .\n",
      "Generated Summary 4:\n",
      " Next is hiring thousands of cheap Eastern European workers to staff its warehouse, it has been claimed (file picture)A major British retailer is hiring more than 200,000 Polish workers in the Humber and Yorkshire area.\n",
      "It comes as it was revealed more than 218,000 are out of work.\n",
      "Actual Summary 4:\n",
      " 'Busloads' of Polish workers arrive at Next's warehouse in West Yorkshire .\n",
      "Unemployment higher than average in Humber and Yorkshire with 218,000 out of work .\n",
      "Reports that Polish agency has sent 7,000 people to work at Next already .\n",
      "Operations director at Polish firm said he received 100 calls a day asking about Next jobs .\n",
      "Next says it currently uses about 250 Polish workers and hires up to 500 a year .\n",
      "Spokesman claims the firm 'simply cannot recruit enough people locally'\n",
      "---------------------------------------------------------\n",
      "Article 5:\n",
      " By . Martin Robinson, Gerri Peev and Amie Keeley . PUBLISHED: . 09:34 EST, 3 October 2013 . | . UPDATED: . 19:26 EST, 3 October 2013 . Commons Speaker John Bercow has been called a ‘little weasel’ by a mother who reported him to police for allegedly ‘walloping’ her car. Nathalie Pulford dismissed the MP as an ‘arrogant toff’ after watching him try to squeeze his Volvo into a tight parking spot in Chelsea. The 42-year-old divorcee had been dining with her father and two sons, aged ten and 12, when she saw Mr Bercow attempting to manoeuvre his vehicle into a small space near her Range Rover. Rebuttal: Mr Bercow's spokesman said today that he would happy for Ms Pulford to take the matter up with his insurer . She believed she saw her luxury car move so ran outside the restaurant to tell off the Speaker. Mr Bercow denied pranging her car and said he had been offended by her behaviour. Miss Pulford, who has reported Wednesday evening’s incident to police, said she asked Mr Bercow if it was his Volvo and he said it was. ‘I asked him if he realised that he’d just bashed both cars to get in his spot and he said, “No I didn’t” so I replied “Yes you did because I was just watching you”. ‘He was not willing to discuss it and was completely dismissive of me. I stood there absolutely dumbfounded. ‘I said, “If you didn’t touch these cars how about you prove me wrong and get out without touching them?” and he said, “I will do no such thing” and “I am not required to leave this space therefore I won’t do it”. Ticking off: Speaker John Bercow is berated by Nathalie Pulford who later accused him of behaving like an 'arrogant toff' because she says he clipped her parked car . Difference of opinion: Natalie Pulford claims John Bercow's Volvo struck her Range Rover but he says that he didn't . Indignant: Nathalie Pulford charged out of a Chelsea restaurant and said to the MP: 'Don't you realise you absolutely bashed into my car?' ‘I felt such a fool because something quite trivial had become out or proportion. 'If he’d have turned round and said sorry I wouldn’t have asked him to pay for it, but he kept looking at me square in the eyes and said, “I didn’t do it”. If I’d have seen how bad the damage was I’d have asked for his details.’ She said Mr Bercow’s car was covered in scrapes and scratches. Accusations: Natalie Pulford says 'he was being . really haughty, being a completely arrogant toff', but he says 'she was . clearly very irate, but I totally reject any suggestion (about) the . scratches on her car ' In the gap: Ms Pulford stands between her Range Rover and the Speaker's Volvo, which she said hit her vehicle and another in a tight manoeuvre . ‘He should have left a note on the window – that’s what I would have done. 'It’s disgraceful. He’s a little weasel. 'Everyone has bad days but it would be nice if he gave me an apology or just admitted it. 'Witnesses saw it happen. How can anybody be so conceited? I am sure he thinks he’s above the law.’ Mr Bercow admitted to a reporter at the scene that he was ‘not the best driver’ but insisted: ‘Am I too arrogant to say sorry? No. I’d be happy to fess up, but the fact is I didn’t touch her car. I don’t know why she got so angry.’ Scene: The incident happened on Sloane Avenue in Chelsea outside the Gaucho restaurant on the right . On the job: Speaker of the House of Commons John Bercow in ceremonial clothing during the Queen's Jubilee last year . A spokesman for Mr Bercow, who as Speaker is paid £142,642 a year, said he had been attending a charity event at his children’s school, adding: ‘He strongly denies that his car hit this lady’s car. If she wants to raise it with her insurer, he would be more than happy to defend himself. He was simply bewildered at the time.’ It is claimed that a waitress at Gaucho backed Ms Pulford's version of events. Nadia . Green said: 'I saw the bump. I was taking an order and the (Bercow's) car literally touched both of the other cars to get into the space. He . was trying to squeeze in.' Mr Bercow was on his way to a school charity auction in a nearby church at the time of the incident. The police confirmed the matter had been reported. A . spokesman for the Met said: 'Police were called at shortly after . 01.00hrs on Thursday 3 October by a motorist reporting a damage only . collision that occurred at around 18.20hrs on Wednesday, 2 October in . Ixworth Place, SW3. 'The motorist has been asked to attend a police station when convenient to fully report the matter.'\n",
      "Generated Summary 5:\n",
      " Nathalie Pulford says she saw John Bercow trying to squeeze his Volvo into a tight parking spot in Chelsea.\n",
      "She says he was 'arrogant toff' after she saw him try to squeeze her car into the space.\n",
      "Actual Summary 5:\n",
      " Nathalie Pulford charged out of a Chelsea restaurant to confront the MP .\n",
      "'I said to him: \"Don't you realise you .\n",
      "absolutely bashed into my car?\" - he had walloped these cars - and he .\n",
      "said: \"No I didn't. It wasn't me\", she said .\n",
      "Mr Bercow admits he's 'not the best' driver but denies he hit any car .\n",
      "Waitress watching through window taking an order said: 'I saw the bump'\n",
      "Mr Bercow’s five-year-old daughter was reduced to tears during the filming of a TV show in which she was quizzed about her celebrity mother, Sally. Jemima Bercow had to be taken off the stage three times on ITV’s Big Star’s Little Star, where the children of celebrities answer questions about their parents.\n",
      "---------------------------------------------------------\n"
     ]
    }
   ],
   "source": [
    "# Display a few generated summaries with actual summaries\n",
    "for i in range(5):\n",
    "    print(f\"Article {i+1}:\\n\", test_results[i]['article'])\n",
    "    print(f\"Generated Summary {i+1}:\\n\", test_results[i]['generated_summary'])\n",
    "    print(f\"Actual Summary {i+1}:\\n\", test_results[i]['highlights'])\n",
    "    print(\"---------------------------------------------------------\")"
   ]
  }
 ],
 "metadata": {
  "kernelspec": {
   "display_name": "Python 3",
   "language": "python",
   "name": "python3"
  },
  "language_info": {
   "codemirror_mode": {
    "name": "ipython",
    "version": 3
   },
   "file_extension": ".py",
   "mimetype": "text/x-python",
   "name": "python",
   "nbconvert_exporter": "python",
   "pygments_lexer": "ipython3",
   "version": "3.8.19"
  }
 },
 "nbformat": 4,
 "nbformat_minor": 2
}
